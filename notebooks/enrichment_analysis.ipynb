{
 "cells": [
  {
   "cell_type": "markdown",
   "metadata": {},
   "source": [
    "# Pathway Enrichment on the COVID-19 Knowledge Graph\n",
    "This notebook outlines a standard pathway enrichment based on the nodes presented in the KG."
   ]
  },
  {
   "cell_type": "code",
   "execution_count": 1,
   "metadata": {},
   "outputs": [],
   "source": [
    "import sys\n",
    "import time\n",
    "\n",
    "import pandas as pd\n",
    "import numpy as np\n",
    "import scipy\n",
    "from scipy.stats import fisher_exact\n",
    "from statsmodels.stats.multitest import multipletests\n",
    "import covid19kg\n",
    "import pybel"
   ]
  },
  {
   "cell_type": "markdown",
   "metadata": {},
   "source": [
    "# Notebook Provenance\n",
    "The explicit display of time of execution and the versions of the software packages used."
   ]
  },
  {
   "cell_type": "code",
   "execution_count": 2,
   "metadata": {},
   "outputs": [
    {
     "data": {
      "text/plain": [
       "'3.7.4 (default, Aug 13 2019, 15:17:50) \\n[Clang 4.0.1 (tags/RELEASE_401/final)]'"
      ]
     },
     "execution_count": 2,
     "metadata": {},
     "output_type": "execute_result"
    }
   ],
   "source": [
    "sys.version"
   ]
  },
  {
   "cell_type": "code",
   "execution_count": 3,
   "metadata": {},
   "outputs": [
    {
     "data": {
      "text/plain": [
       "'Thu Apr 16 10:54:54 2020'"
      ]
     },
     "execution_count": 3,
     "metadata": {},
     "output_type": "execute_result"
    }
   ],
   "source": [
    "time.asctime()"
   ]
  },
  {
   "cell_type": "code",
   "execution_count": 4,
   "metadata": {},
   "outputs": [
    {
     "data": {
      "text/plain": [
       "'1.16.3'"
      ]
     },
     "execution_count": 4,
     "metadata": {},
     "output_type": "execute_result"
    }
   ],
   "source": [
    "np.__version__"
   ]
  },
  {
   "cell_type": "code",
   "execution_count": 5,
   "metadata": {},
   "outputs": [
    {
     "data": {
      "text/plain": [
       "'0.14.6'"
      ]
     },
     "execution_count": 5,
     "metadata": {},
     "output_type": "execute_result"
    }
   ],
   "source": [
    "pybel.get_version()"
   ]
  },
  {
   "cell_type": "code",
   "execution_count": 6,
   "metadata": {},
   "outputs": [
    {
     "data": {
      "text/plain": [
       "'0.24.2'"
      ]
     },
     "execution_count": 6,
     "metadata": {},
     "output_type": "execute_result"
    }
   ],
   "source": [
    "pd.__version__"
   ]
  },
  {
   "cell_type": "code",
   "execution_count": 7,
   "metadata": {},
   "outputs": [
    {
     "data": {
      "text/plain": [
       "'1.4.1'"
      ]
     },
     "execution_count": 7,
     "metadata": {},
     "output_type": "execute_result"
    }
   ],
   "source": [
    "scipy.__version__"
   ]
  },
  {
   "cell_type": "markdown",
   "metadata": {},
   "source": [
    "Load the KG"
   ]
  },
  {
   "cell_type": "code",
   "execution_count": 8,
   "metadata": {},
   "outputs": [],
   "source": [
    "covid = covid19kg.get_graph()"
   ]
  },
  {
   "cell_type": "code",
   "execution_count": 9,
   "metadata": {},
   "outputs": [
    {
     "name": "stdout",
     "output_type": "stream",
     "text": [
      "Covid19KG v0.0.1-dev\n",
      "Number of Nodes: 3954\n",
      "Number of Edges: 9484\n",
      "Number of Citations: 185\n",
      "Number of Authors: 950\n",
      "Network Density: 6.07E-04\n",
      "Number of Components: 29\n",
      "Number of Warnings: 0\n"
     ]
    }
   ],
   "source": [
    "covid.summarize()"
   ]
  },
  {
   "cell_type": "code",
   "execution_count": 10,
   "metadata": {},
   "outputs": [],
   "source": [
    "covid = pybel.struct.summary.node_summary.get_names(covid)"
   ]
  },
  {
   "cell_type": "code",
   "execution_count": 11,
   "metadata": {},
   "outputs": [],
   "source": [
    "covid_geneset = covid[\"HGNC\"]"
   ]
  },
  {
   "cell_type": "markdown",
   "metadata": {},
   "source": [
    "Getting pathway genesets out of the databases"
   ]
  },
  {
   "cell_type": "code",
   "execution_count": 12,
   "metadata": {},
   "outputs": [],
   "source": [
    "PREFIX = \"https://raw.githubusercontent.com/pathwayforte/pathway-forte/master/data/gmt_files/\"\n",
    "KEGG_URL = PREFIX + \"kegg_geneset_final.gmt\"\n",
    "REACTOME_URL = PREFIX + \"reactome_geneset_final.gmt\"\n",
    "WIKIPATHWAYS_URL = PREFIX + \"wikipathways_geneset_final.gmt\""
   ]
  },
  {
   "cell_type": "code",
   "execution_count": 13,
   "metadata": {},
   "outputs": [],
   "source": [
    "import urllib.request\n",
    "from io import StringIO\n",
    "\n",
    "def get_genesets(url: str):\n",
    "    \"\"\"Return gene sets as a dictionary by downloading a GMT file.\"\"\"\n",
    "    response = StringIO(urllib.request.urlopen(url).read().decode('utf-8'))\n",
    "    \n",
    "    genesets_dict = {\n",
    "        line.strip().split(\"\\t\")[0]: line.strip().split(\"\\t\")[2:]\n",
    "        for line in response\n",
    "    }\n",
    "    return {\n",
    "        k: v\n",
    "        for k, v in genesets_dict.items()\n",
    "        if len(v) >= 10 and len(v) <= 500\n",
    "    }"
   ]
  },
  {
   "cell_type": "code",
   "execution_count": 14,
   "metadata": {},
   "outputs": [],
   "source": [
    "kegg_gene_sets = get_genesets(KEGG_URL)\n",
    "reactome_gene_sets = get_genesets(REACTOME_URL)\n",
    "wp_gene_sets = get_genesets(WIKIPATHWAYS_URL)"
   ]
  },
  {
   "cell_type": "code",
   "execution_count": 15,
   "metadata": {},
   "outputs": [],
   "source": [
    "def _prepare_hypergeometric_test(\n",
    "        query_gene_set,\n",
    "        pathway_gene_set,\n",
    "        gene_universe,\n",
    "):\n",
    "    \"\"\"Prepare the matrix for hypergeometric test calculations.\n",
    "\n",
    "    :param query_gene_set: gene set to test against pathway\n",
    "    :param pathway_gene_set: pathway gene set\n",
    "    :param gene_universe: number of HGNC symbols\n",
    "    :return: 2x2 matrix\n",
    "    \"\"\"\n",
    "    # Cast lists to sets\n",
    "    if not isinstance(query_gene_set, set):\n",
    "        query_gene_set = set(query_gene_set)\n",
    "    if not isinstance(pathway_gene_set, set):\n",
    "        pathway_gene_set = set(pathway_gene_set)\n",
    "\n",
    "    # Return matrix to test hyper-geometric test\n",
    "    return np.array([\n",
    "        [\n",
    "            len(query_gene_set.intersection(pathway_gene_set)),\n",
    "            len(query_gene_set.difference(pathway_gene_set)),\n",
    "        ],\n",
    "        [\n",
    "            len(pathway_gene_set.difference(query_gene_set)),\n",
    "            gene_universe - len(pathway_gene_set.union(query_gene_set)),\n",
    "        ],\n",
    "    ])\n",
    "\n",
    "def perform_hypergeometric_test(\n",
    "        genes_to_test,\n",
    "        pathway_dict,\n",
    "        gene_universe: int = 41714,\n",
    "        apply_threshold=False,\n",
    "        threshold=0.01,\n",
    "):\n",
    "    \"\"\"Perform hypergeometric tests.\n",
    "\n",
    "    :param genes_to_test: gene set to test against pathway\n",
    "    :param pathway_dict: pathway name to gene set\n",
    "    :param gene_universe: number of HGNC symbols\n",
    "    :param apply_threshold: return only significant pathways\n",
    "    :param threshold: significance threshold (by default 0.05)\n",
    "    \"\"\"\n",
    "    rows = []\n",
    "    for (pathway_id, database), pathway_gene_set in pathway_dict.items():\n",
    "        # Prepare the test table to conduct the fisher test\n",
    "        test_table = _prepare_hypergeometric_test(genes_to_test, pathway_gene_set, gene_universe)\n",
    "        # Calculate fisher test (returns tuple of odds ratio and p_value\n",
    "        p_value = fisher_exact(test_table, alternative='greater')[1]\n",
    "        rows.append((database, pathway_id, p_value))\n",
    "\n",
    "    df = pd.DataFrame(rows, columns=['database', 'pathway_id', 'pval'])\n",
    "    correction_test = multipletests(df.pval, method='fdr_bh')\n",
    "    df['qval'] = correction_test[1]\n",
    "\n",
    "    if apply_threshold:\n",
    "        print('Filtering out pathways with q-values > 0.05 according to fdr_bh')\n",
    "        df = df[df['qval'] < threshold]\n",
    "\n",
    "    return df"
   ]
  },
  {
   "cell_type": "code",
   "execution_count": 16,
   "metadata": {},
   "outputs": [],
   "source": [
    "def preprocess_genesets(dictionary, database):\n",
    "    return {\n",
    "        (key, database): value\n",
    "        for key, value in dictionary.items()\n",
    "        if len(value) < 200\n",
    "    }"
   ]
  },
  {
   "cell_type": "code",
   "execution_count": 17,
   "metadata": {},
   "outputs": [
    {
     "name": "stdout",
     "output_type": "stream",
     "text": [
      "Filtering out pathways with q-values > 0.05 according to fdr_bh\n",
      "Filtering out pathways with q-values > 0.05 according to fdr_bh\n",
      "Filtering out pathways with q-values > 0.05 according to fdr_bh\n"
     ]
    }
   ],
   "source": [
    "kegg_results = perform_hypergeometric_test(\n",
    "    covid_geneset, preprocess_genesets(kegg_gene_sets, 'kegg'), apply_threshold=True\n",
    ")\n",
    "reactome_results = perform_hypergeometric_test(\n",
    "    covid_geneset, preprocess_genesets(reactome_gene_sets, 'reactome'), apply_threshold=True\n",
    ")\n",
    "wp_results = perform_hypergeometric_test(\n",
    "    covid_geneset, preprocess_genesets(wp_gene_sets, 'wikipathways'), apply_threshold=True\n",
    ")"
   ]
  },
  {
   "cell_type": "code",
   "execution_count": 18,
   "metadata": {},
   "outputs": [
    {
     "data": {
      "text/html": [
       "<div>\n",
       "<style scoped>\n",
       "    .dataframe tbody tr th:only-of-type {\n",
       "        vertical-align: middle;\n",
       "    }\n",
       "\n",
       "    .dataframe tbody tr th {\n",
       "        vertical-align: top;\n",
       "    }\n",
       "\n",
       "    .dataframe thead th {\n",
       "        text-align: right;\n",
       "    }\n",
       "</style>\n",
       "<table border=\"1\" class=\"dataframe\">\n",
       "  <thead>\n",
       "    <tr style=\"text-align: right;\">\n",
       "      <th></th>\n",
       "      <th>database</th>\n",
       "      <th>pathway_id</th>\n",
       "      <th>pval</th>\n",
       "      <th>qval</th>\n",
       "    </tr>\n",
       "  </thead>\n",
       "  <tbody>\n",
       "    <tr>\n",
       "      <th>260</th>\n",
       "      <td>kegg</td>\n",
       "      <td>hsa05164</td>\n",
       "      <td>4.251925e-60</td>\n",
       "      <td>1.262822e-57</td>\n",
       "    </tr>\n",
       "    <tr>\n",
       "      <th>157</th>\n",
       "      <td>kegg</td>\n",
       "      <td>hsa04620</td>\n",
       "      <td>7.710119e-45</td>\n",
       "      <td>1.144953e-42</td>\n",
       "    </tr>\n",
       "    <tr>\n",
       "      <th>259</th>\n",
       "      <td>kegg</td>\n",
       "      <td>hsa05162</td>\n",
       "      <td>2.755934e-43</td>\n",
       "      <td>2.728375e-41</td>\n",
       "    </tr>\n",
       "    <tr>\n",
       "      <th>262</th>\n",
       "      <td>kegg</td>\n",
       "      <td>hsa05168</td>\n",
       "      <td>1.594562e-40</td>\n",
       "      <td>1.183962e-38</td>\n",
       "    </tr>\n",
       "    <tr>\n",
       "      <th>158</th>\n",
       "      <td>kegg</td>\n",
       "      <td>hsa04621</td>\n",
       "      <td>1.430967e-38</td>\n",
       "      <td>8.499943e-37</td>\n",
       "    </tr>\n",
       "  </tbody>\n",
       "</table>\n",
       "</div>"
      ],
      "text/plain": [
       "    database pathway_id          pval          qval\n",
       "260     kegg   hsa05164  4.251925e-60  1.262822e-57\n",
       "157     kegg   hsa04620  7.710119e-45  1.144953e-42\n",
       "259     kegg   hsa05162  2.755934e-43  2.728375e-41\n",
       "262     kegg   hsa05168  1.594562e-40  1.183962e-38\n",
       "158     kegg   hsa04621  1.430967e-38  8.499943e-37"
      ]
     },
     "execution_count": 18,
     "metadata": {},
     "output_type": "execute_result"
    }
   ],
   "source": [
    "kegg_results.sort_values(by=['qval'], ascending=True).head()"
   ]
  },
  {
   "cell_type": "code",
   "execution_count": 19,
   "metadata": {},
   "outputs": [
    {
     "data": {
      "text/html": [
       "<div>\n",
       "<style scoped>\n",
       "    .dataframe tbody tr th:only-of-type {\n",
       "        vertical-align: middle;\n",
       "    }\n",
       "\n",
       "    .dataframe tbody tr th {\n",
       "        vertical-align: top;\n",
       "    }\n",
       "\n",
       "    .dataframe thead th {\n",
       "        text-align: right;\n",
       "    }\n",
       "</style>\n",
       "<table border=\"1\" class=\"dataframe\">\n",
       "  <thead>\n",
       "    <tr style=\"text-align: right;\">\n",
       "      <th></th>\n",
       "      <th>database</th>\n",
       "      <th>pathway_id</th>\n",
       "      <th>pval</th>\n",
       "      <th>qval</th>\n",
       "    </tr>\n",
       "  </thead>\n",
       "  <tbody>\n",
       "    <tr>\n",
       "      <th>575</th>\n",
       "      <td>reactome</td>\n",
       "      <td>R-HSA-6783783</td>\n",
       "      <td>5.096497e-29</td>\n",
       "      <td>6.824209e-26</td>\n",
       "    </tr>\n",
       "    <tr>\n",
       "      <th>587</th>\n",
       "      <td>reactome</td>\n",
       "      <td>R-HSA-6785807</td>\n",
       "      <td>2.127442e-28</td>\n",
       "      <td>1.424322e-25</td>\n",
       "    </tr>\n",
       "    <tr>\n",
       "      <th>31</th>\n",
       "      <td>reactome</td>\n",
       "      <td>R-HSA-168898</td>\n",
       "      <td>2.496199e-25</td>\n",
       "      <td>1.114137e-22</td>\n",
       "    </tr>\n",
       "    <tr>\n",
       "      <th>1276</th>\n",
       "      <td>reactome</td>\n",
       "      <td>R-HSA-381119</td>\n",
       "      <td>2.420747e-23</td>\n",
       "      <td>8.103450e-21</td>\n",
       "    </tr>\n",
       "    <tr>\n",
       "      <th>779</th>\n",
       "      <td>reactome</td>\n",
       "      <td>R-HSA-381042</td>\n",
       "      <td>4.140649e-19</td>\n",
       "      <td>1.108866e-16</td>\n",
       "    </tr>\n",
       "  </tbody>\n",
       "</table>\n",
       "</div>"
      ],
      "text/plain": [
       "      database     pathway_id          pval          qval\n",
       "575   reactome  R-HSA-6783783  5.096497e-29  6.824209e-26\n",
       "587   reactome  R-HSA-6785807  2.127442e-28  1.424322e-25\n",
       "31    reactome   R-HSA-168898  2.496199e-25  1.114137e-22\n",
       "1276  reactome   R-HSA-381119  2.420747e-23  8.103450e-21\n",
       "779   reactome   R-HSA-381042  4.140649e-19  1.108866e-16"
      ]
     },
     "execution_count": 19,
     "metadata": {},
     "output_type": "execute_result"
    }
   ],
   "source": [
    "reactome_results.sort_values(by=['qval'], ascending=True).head()"
   ]
  },
  {
   "cell_type": "code",
   "execution_count": 20,
   "metadata": {},
   "outputs": [
    {
     "data": {
      "text/html": [
       "<div>\n",
       "<style scoped>\n",
       "    .dataframe tbody tr th:only-of-type {\n",
       "        vertical-align: middle;\n",
       "    }\n",
       "\n",
       "    .dataframe tbody tr th {\n",
       "        vertical-align: top;\n",
       "    }\n",
       "\n",
       "    .dataframe thead th {\n",
       "        text-align: right;\n",
       "    }\n",
       "</style>\n",
       "<table border=\"1\" class=\"dataframe\">\n",
       "  <thead>\n",
       "    <tr style=\"text-align: right;\">\n",
       "      <th></th>\n",
       "      <th>database</th>\n",
       "      <th>pathway_id</th>\n",
       "      <th>pval</th>\n",
       "      <th>qval</th>\n",
       "    </tr>\n",
       "  </thead>\n",
       "  <tbody>\n",
       "    <tr>\n",
       "      <th>232</th>\n",
       "      <td>wikipathways</td>\n",
       "      <td>WP1449</td>\n",
       "      <td>3.144748e-41</td>\n",
       "      <td>1.264189e-38</td>\n",
       "    </tr>\n",
       "    <tr>\n",
       "      <th>41</th>\n",
       "      <td>wikipathways</td>\n",
       "      <td>WP2328</td>\n",
       "      <td>5.248340e-30</td>\n",
       "      <td>1.054916e-27</td>\n",
       "    </tr>\n",
       "    <tr>\n",
       "      <th>49</th>\n",
       "      <td>wikipathways</td>\n",
       "      <td>WP530</td>\n",
       "      <td>6.500526e-28</td>\n",
       "      <td>8.710705e-26</td>\n",
       "    </tr>\n",
       "    <tr>\n",
       "      <th>26</th>\n",
       "      <td>wikipathways</td>\n",
       "      <td>WP3865</td>\n",
       "      <td>5.236807e-27</td>\n",
       "      <td>5.262991e-25</td>\n",
       "    </tr>\n",
       "    <tr>\n",
       "      <th>315</th>\n",
       "      <td>wikipathways</td>\n",
       "      <td>WP4217</td>\n",
       "      <td>3.880071e-26</td>\n",
       "      <td>3.119577e-24</td>\n",
       "    </tr>\n",
       "  </tbody>\n",
       "</table>\n",
       "</div>"
      ],
      "text/plain": [
       "         database pathway_id          pval          qval\n",
       "232  wikipathways     WP1449  3.144748e-41  1.264189e-38\n",
       "41   wikipathways     WP2328  5.248340e-30  1.054916e-27\n",
       "49   wikipathways      WP530  6.500526e-28  8.710705e-26\n",
       "26   wikipathways     WP3865  5.236807e-27  5.262991e-25\n",
       "315  wikipathways     WP4217  3.880071e-26  3.119577e-24"
      ]
     },
     "execution_count": 20,
     "metadata": {},
     "output_type": "execute_result"
    }
   ],
   "source": [
    "wp_results.sort_values(by=['qval'], ascending=True).head()"
   ]
  },
  {
   "cell_type": "markdown",
   "metadata": {},
   "source": [
    "The results of the enrichment analysis highlight the Influenza signaling pathway (hsa05164) and other immune system-related pathways as the most enriched pathways."
   ]
  },
  {
   "cell_type": "code",
   "execution_count": null,
   "metadata": {},
   "outputs": [],
   "source": []
  }
 ],
 "metadata": {
  "kernelspec": {
   "display_name": "Python 3",
   "language": "python",
   "name": "python3"
  },
  "language_info": {
   "codemirror_mode": {
    "name": "ipython",
    "version": 3
   },
   "file_extension": ".py",
   "mimetype": "text/x-python",
   "name": "python",
   "nbconvert_exporter": "python",
   "pygments_lexer": "ipython3",
   "version": "3.7.4"
  }
 },
 "nbformat": 4,
 "nbformat_minor": 2
}
