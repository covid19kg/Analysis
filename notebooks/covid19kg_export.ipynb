{
 "cells": [
  {
   "cell_type": "markdown",
   "metadata": {},
   "source": [
    "# Exporting the COVID-19 Knowledge Graph to different formats\n",
    "This notebook illustrates a way to export BEL graphs to multiple stantard network formats."
   ]
  },
  {
   "cell_type": "code",
   "execution_count": 1,
   "metadata": {},
   "outputs": [],
   "source": [
    "import os\n",
    "import sys\n",
    "import time\n",
    "\n",
    "import pickle\n",
    "import pybel\n",
    "import pandas as pd\n",
    "\n",
    "import covid19kg"
   ]
  },
  {
   "cell_type": "markdown",
   "metadata": {},
   "source": [
    "# Notebook Provenance\n",
    "The explicit display of time of execution and the versions of the software packages used."
   ]
  },
  {
   "cell_type": "code",
   "execution_count": 2,
   "metadata": {},
   "outputs": [
    {
     "data": {
      "text/plain": [
       "'3.7.4 (v3.7.4:e09359112e, Jul  8 2019, 14:54:52) \\n[Clang 6.0 (clang-600.0.57)]'"
      ]
     },
     "execution_count": 2,
     "metadata": {},
     "output_type": "execute_result"
    }
   ],
   "source": [
    "sys.version"
   ]
  },
  {
   "cell_type": "code",
   "execution_count": 3,
   "metadata": {},
   "outputs": [
    {
     "data": {
      "text/plain": [
       "'Sun Apr 12 17:31:17 2020'"
      ]
     },
     "execution_count": 3,
     "metadata": {},
     "output_type": "execute_result"
    }
   ],
   "source": [
    "time.asctime()"
   ]
  },
  {
   "cell_type": "code",
   "execution_count": 4,
   "metadata": {},
   "outputs": [
    {
     "data": {
      "text/plain": [
       "'0.14.6'"
      ]
     },
     "execution_count": 4,
     "metadata": {},
     "output_type": "execute_result"
    }
   ],
   "source": [
    "pybel.get_version()"
   ]
  },
  {
   "cell_type": "markdown",
   "metadata": {},
   "source": [
    "# Itertaing through all the BEL files"
   ]
  },
  {
   "cell_type": "code",
   "execution_count": 5,
   "metadata": {},
   "outputs": [],
   "source": [
    "HERE = os.path.abspath(os.path.dirname('__file__'))\n",
    "\n",
    "BEL_DIRECTORY = os.path.abspath(os.path.join(HERE, os.pardir, os.pardir, 'covid19kg', 'covid19kg'))\n",
    "\n",
    "def get_cached_bel_files():\n",
    "    \"\"\"Return all cached bel files.\"\"\"\n",
    "    return [\n",
    "        (filename, pybel.from_nodelink_file(os.path.join(BEL_DIRECTORY, filename)))\n",
    "        for filename in os.listdir(BEL_DIRECTORY)\n",
    "        if filename.endswith(\".bel.nodelink.json\")\n",
    "    ]"
   ]
  },
  {
   "cell_type": "markdown",
   "metadata": {},
   "source": [
    "# Converting to different formats"
   ]
  },
  {
   "cell_type": "code",
   "execution_count": 6,
   "metadata": {},
   "outputs": [],
   "source": [
    "def convert_to_format(\n",
    "    format_type_list,\n",
    "    output=os.path.join(BEL_DIRECTORY, 'export'),\n",
    "):\n",
    "    \"\"\"Export COVID-19 KG to multiple formats. The different formats are pickle, cx, jgif, graphml, sif and csv.\n",
    "    \n",
    "    @param format_type: List of format you want to convert it to.\n",
    "                        \n",
    "    \"\"\"\n",
    "    # Make main dir for exports\n",
    "    if not os.path.exists(output):\n",
    "        os.mkdir(output)\n",
    "        \n",
    "    # Export each file to its corresponding dir\n",
    "    for format_type in format_type_list:\n",
    "        os.makedirs(os.path.join(output, format_type), exist_ok=True)\n",
    "    \n",
    "    # Iter over files\n",
    "    for filename, bel_graph in get_cached_bel_files():\n",
    "        \n",
    "        # Get the name for the file\n",
    "        filename = filename.replace(\".bel.nodelink.json\", \"\")\n",
    "        \n",
    "        # Export the given BEL file to the desired formats\n",
    "        for format_type in format_type_list:\n",
    "\n",
    "            if format_type == 'pickle':\n",
    "                pybel.to_pickle(bel_graph, os.path.join(output, format_type, f'{filename}.pickle'))\n",
    "\n",
    "            elif format_type == 'cx':\n",
    "                cx_file = pybel.to_cx(bel_graph)\n",
    "                pickle.dump(cx_file, open(os.path.join(output, format_type, f'{filename}.cx'), \"wb\"))\n",
    "\n",
    "            elif format_type == 'jgif':\n",
    "                jgif_file = pybel.to_jgif(bel_graph)\n",
    "                pickle.dump(jgif_file, open(os.path.join(output, format_type, f'{filename}.jgif'), \"wb\"))\n",
    "\n",
    "            elif format_type == 'graphml':\n",
    "                pybel.to_graphml(bel_graph, os.path.join(output, format_type, f'{filename}.graphml'))\n",
    "\n",
    "            elif format_type == 'csv':\n",
    "                pybel.to_csv(bel_graph, os.path.join(output, format_type, f'{filename}.csv'))\n",
    "\n",
    "            elif format_type == 'sif':\n",
    "                pybel.to_sif(bel_graph, os.path.join(output, format_type, f'{filename}.sif'))\n",
    "\n",
    "            else:\n",
    "                raise ValueError(f'Unknown format {format_type_list}')\n",
    "\n",
    "    return None"
   ]
  },
  {
   "cell_type": "code",
   "execution_count": 7,
   "metadata": {},
   "outputs": [],
   "source": [
    "convert_to_format(\n",
    "    ['pickle','cx','jgif','graphml','csv','sif'],\n",
    ")"
   ]
  },
  {
   "cell_type": "code",
   "execution_count": null,
   "metadata": {},
   "outputs": [],
   "source": []
  }
 ],
 "metadata": {
  "kernelspec": {
   "display_name": "Python 3",
   "language": "python",
   "name": "python3"
  },
  "language_info": {
   "codemirror_mode": {
    "name": "ipython",
    "version": 3
   },
   "file_extension": ".py",
   "mimetype": "text/x-python",
   "name": "python",
   "nbconvert_exporter": "python",
   "pygments_lexer": "ipython3",
   "version": "3.7.4"
  }
 },
 "nbformat": 4,
 "nbformat_minor": 4
}
